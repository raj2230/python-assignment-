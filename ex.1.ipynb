{
 "cells": [
  {
   "cell_type": "code",
   "execution_count": 9,
   "id": "52966989",
   "metadata": {},
   "outputs": [
    {
     "name": "stdout",
     "output_type": "stream",
     "text": [
      "Enter your surname: chituri\n",
      "Enter your given name: Rajkumar\n"
     ]
    }
   ],
   "source": [
    "surname = input(\"Enter your surname: \")\n",
    "given_name = input(\"Enter your given name: \")"
   ]
  },
  {
   "cell_type": "code",
   "execution_count": 10,
   "id": "799ea3e1",
   "metadata": {},
   "outputs": [
    {
     "name": "stdout",
     "output_type": "stream",
     "text": [
      "Rajkumar chituri\n"
     ]
    }
   ],
   "source": [
    "full_name = given_name + \" \" + surname\n",
    "print(full_name)"
   ]
  },
  {
   "cell_type": "code",
   "execution_count": 17,
   "id": "6bb3556b",
   "metadata": {},
   "outputs": [
    {
     "name": "stdout",
     "output_type": "stream",
     "text": [
      "C. Rajkumar\n"
     ]
    }
   ],
   "source": [
    "short_name = surname[0].upper() + \". \" + given_name[0].upper()+\"\"+given_name[1:]\n",
    "print(short_name)"
   ]
  },
  {
   "cell_type": "code",
   "execution_count": 20,
   "id": "5c1e6e0d",
   "metadata": {},
   "outputs": [
    {
     "name": "stdout",
     "output_type": "stream",
     "text": [
      "Rajkumar\n"
     ]
    }
   ],
   "source": [
    "given_name_limit = given_name[:15]\n",
    "print(given_name)"
   ]
  },
  {
   "cell_type": "code",
   "execution_count": null,
   "id": "429d37af",
   "metadata": {},
   "outputs": [],
   "source": []
  }
 ],
 "metadata": {
  "kernelspec": {
   "display_name": "Python 3 (ipykernel)",
   "language": "python",
   "name": "python3"
  },
  "language_info": {
   "codemirror_mode": {
    "name": "ipython",
    "version": 3
   },
   "file_extension": ".py",
   "mimetype": "text/x-python",
   "name": "python",
   "nbconvert_exporter": "python",
   "pygments_lexer": "ipython3",
   "version": "3.10.9"
  }
 },
 "nbformat": 4,
 "nbformat_minor": 5
}
