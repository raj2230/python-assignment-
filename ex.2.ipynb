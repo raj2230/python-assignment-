{
 "cells": [
  {
   "cell_type": "code",
   "execution_count": 14,
   "id": "2e3bc707",
   "metadata": {},
   "outputs": [
    {
     "name": "stdout",
     "output_type": "stream",
     "text": [
      "str1: The festival that I like the most is Diwali We celebrate it either in October or in November In Gujarat it is celebrated for five days Every house is decorated with rangoli and oil lamps We start preparing for Diwali a few weeks in advance by cleaning our houses Sweets and savouries are made and new clothes are bought for everyone We celebrate it with a lot of pomp and festivity I love Diwali because we enjoy bursting crackers visiting our relatives and having lots of fun with our near and dear onesThe festival that I like the most is Diwali We celebrate it either in October or in November In Gujarat it is celebrated for five days Every house is decorated with rangoli and oil lamps We start preparing for Diwali a few weeks in advance by cleaning our houses Sweets and savouries are made and new clothes are bought for everyone We celebrate it with a lot of pomp and festivity I love Diwali because we enjoy bursting crackers visiting our relatives and having lots of fun with our near and dear ones\n"
     ]
    }
   ],
   "source": [
    "import pandas as pd\n",
    "import string\n",
    "news_article = \"The festival that I like the most is Diwali. We celebrate it either in October or in November. In Gujarat, it is celebrated for five days. Every house is decorated with rangoli and oil lamps. We start preparing for Diwali a few weeks in advance by cleaning our houses. Sweets and savouries are made and new clothes are bought for everyone. We celebrate it with a lot of pomp and festivity. I love Diwali because we enjoy bursting crackers, visiting our relatives and having lots of fun with our near and dear ones.The festival that I like the most is Diwali. We celebrate it either in October or in November. In Gujarat, it is celebrated for five days. Every house is decorated with rangoli and oil lamps. We start preparing for Diwali a few weeks in advance by cleaning our houses. Sweets and savouries are made and new clothes are bought for everyone. We celebrate it with a lot of pomp and festivity. I love Diwali because we enjoy bursting crackers, visiting our relatives and having lots of fun with our near and dear ones.\"\n",
    "translator = str.maketrans('', '', string.punctuation)\n",
    "str1 = news_article.translate(translator)\n",
    "print(\"str1:\", str1)"
   ]
  },
  {
   "cell_type": "code",
   "execution_count": 5,
   "id": "2fa2ee0b",
   "metadata": {},
   "outputs": [
    {
     "name": "stdout",
     "output_type": "stream",
     "text": [
      "L1: ['The', 'festival', 'that', 'I', 'like', 'the', 'most', 'is', 'Diwali', 'We', 'celebrate', 'it', 'either', 'in', 'October', 'or', 'in', 'November', 'In', 'Gujarat', 'it', 'is', 'celebrated', 'for', 'five', 'days', 'Every', 'house', 'is', 'decorated', 'with', 'rangoli', 'and', 'oil', 'lamps', 'We', 'start', 'preparing', 'for', 'Diwali', 'a', 'few', 'weeks', 'in', 'advance', 'by', 'cleaning', 'our', 'houses', 'Sweets', 'and', 'savouries', 'are', 'made', 'and', 'new', 'clothes', 'are', 'bought', 'for', 'everyone', 'We', 'celebrate', 'it', 'with', 'a', 'lot', 'of', 'pomp', 'and', 'festivity', 'I', 'love', 'Diwali', 'because', 'we', 'enjoy', 'bursting', 'crackers', 'visiting', 'our', 'relatives', 'and', 'having', 'lots', 'of', 'fun', 'with', 'our', 'near', 'and', 'dear', 'onesThe', 'festival', 'that', 'I', 'like', 'the', 'most', 'is', 'Diwali', 'We', 'celebrate', 'it', 'either', 'in', 'October', 'or', 'in', 'November', 'In', 'Gujarat', 'it', 'is', 'celebrated', 'for', 'five', 'days', 'Every', 'house', 'is', 'decorated', 'with', 'rangoli', 'and', 'oil', 'lamps', 'We', 'start', 'preparing', 'for', 'Diwali', 'a', 'few', 'weeks', 'in', 'advance', 'by', 'cleaning', 'our', 'houses', 'Sweets', 'and', 'savouries', 'are', 'made', 'and', 'new', 'clothes', 'are', 'bought', 'for', 'everyone', 'We', 'celebrate', 'it', 'with', 'a', 'lot', 'of', 'pomp', 'and', 'festivity', 'I', 'love', 'Diwali', 'because', 'we', 'enjoy', 'bursting', 'crackers', 'visiting', 'our', 'relatives', 'and', 'having', 'lots', 'of', 'fun', 'with', 'our', 'near', 'and', 'dear', 'ones']\n"
     ]
    }
   ],
   "source": [
    "L1 = str1.split()\n",
    "print(\"L1:\", L1)"
   ]
  },
  {
   "cell_type": "code",
   "execution_count": 15,
   "id": "5963b461",
   "metadata": {},
   "outputs": [
    {
     "name": "stdout",
     "output_type": "stream",
     "text": [
      "d1: {'The': 1, 'festival': 2, 'that': 2, 'I': 4, 'like': 2, 'the': 2, 'most': 2, 'is': 6, 'Diwali': 6, 'We': 6, 'celebrate': 4, 'it': 6, 'either': 2, 'in': 6, 'October': 2, 'or': 2, 'November': 2, 'In': 2, 'Gujarat': 2, 'celebrated': 2, 'for': 6, 'five': 2, 'days': 2, 'Every': 2, 'house': 2, 'decorated': 2, 'with': 6, 'rangoli': 2, 'and': 12, 'oil': 2, 'lamps': 2, 'start': 2, 'preparing': 2, 'a': 4, 'few': 2, 'weeks': 2, 'advance': 2, 'by': 2, 'cleaning': 2, 'our': 6, 'houses': 2, 'Sweets': 2, 'savouries': 2, 'are': 4, 'made': 2, 'new': 2, 'clothes': 2, 'bought': 2, 'everyone': 2, 'lot': 2, 'of': 4, 'pomp': 2, 'festivity': 2, 'love': 2, 'because': 2, 'we': 2, 'enjoy': 2, 'bursting': 2, 'crackers': 2, 'visiting': 2, 'relatives': 2, 'having': 2, 'lots': 2, 'fun': 2, 'near': 2, 'dear': 2, 'onesThe': 1, 'ones': 1}\n"
     ]
    }
   ],
   "source": [
    "d1 = {}\n",
    "for word in L1:\n",
    "    if word not in d1:\n",
    "        d1[word] = 1\n",
    "    else:\n",
    "        d1[word] += 1\n",
    "print(\"d1:\", d1)"
   ]
  },
  {
   "cell_type": "code",
   "execution_count": 17,
   "id": "ce1e241a",
   "metadata": {},
   "outputs": [
    {
     "name": "stdout",
     "output_type": "stream",
     "text": [
      "\n",
      "DataFrame:\n",
      "        word  No of occurrences\n",
      "0        The                  1\n",
      "1   festival                  2\n",
      "2       that                  2\n",
      "3          I                  4\n",
      "4       like                  2\n",
      "..       ...                ...\n",
      "63       fun                  2\n",
      "64      near                  2\n",
      "65      dear                  2\n",
      "66   onesThe                  1\n",
      "67      ones                  1\n",
      "\n",
      "[68 rows x 2 columns]\n"
     ]
    }
   ],
   "source": [
    "df = pd.DataFrame({\"word\": list(d1.keys()), \"No of occurrences\": list(d1.values())})\n",
    "print(df)"
   ]
  },
  {
   "cell_type": "code",
   "execution_count": null,
   "id": "9e7fbb54",
   "metadata": {},
   "outputs": [],
   "source": []
  }
 ],
 "metadata": {
  "kernelspec": {
   "display_name": "Python 3 (ipykernel)",
   "language": "python",
   "name": "python3"
  },
  "language_info": {
   "codemirror_mode": {
    "name": "ipython",
    "version": 3
   },
   "file_extension": ".py",
   "mimetype": "text/x-python",
   "name": "python",
   "nbconvert_exporter": "python",
   "pygments_lexer": "ipython3",
   "version": "3.10.9"
  }
 },
 "nbformat": 4,
 "nbformat_minor": 5
}
